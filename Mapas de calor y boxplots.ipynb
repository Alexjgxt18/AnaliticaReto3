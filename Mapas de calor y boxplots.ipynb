{
 "cells": [
  {
   "cell_type": "markdown",
   "metadata": {},
   "source": [
    "Herramientas computacionales: El arte de la Analítica\n",
    "\n",
    "Grupo 1\n",
    "\n",
    "\n",
    "Joshua Ricardo Acosta Ramírez A01652266\n",
    "\n",
    "Leslie Ugalde Zamudio A01657397\n",
    "\n",
    "Alex Álvaro Flores Contreras A01653320\n",
    "\n",
    "\n",
    "INSTITUTO TECNOLÓGICO DE ESTUDIOS SUPERIORES DE MONTERREY\n"
   ]
  },
  {
   "cell_type": "markdown",
   "metadata": {},
   "source": [
    "Cargamos nuestra base de datos (covid19_tweets.csv) utilizando pandas:"
   ]
  },
  {
   "cell_type": "code",
   "execution_count": 1,
   "metadata": {},
   "outputs": [],
   "source": [
    "import pandas as pd\n",
    "data=pd.read_csv(\"covid19_tweets.csv\")"
   ]
  },
  {
   "cell_type": "markdown",
   "metadata": {},
   "source": [
    "Con data.head() se muestran los primeros 5 datos  de la base: "
   ]
  },
  {
   "cell_type": "code",
   "execution_count": 2,
   "metadata": {},
   "outputs": [
    {
     "data": {
      "text/html": [
       "<div>\n",
       "<style scoped>\n",
       "    .dataframe tbody tr th:only-of-type {\n",
       "        vertical-align: middle;\n",
       "    }\n",
       "\n",
       "    .dataframe tbody tr th {\n",
       "        vertical-align: top;\n",
       "    }\n",
       "\n",
       "    .dataframe thead th {\n",
       "        text-align: right;\n",
       "    }\n",
       "</style>\n",
       "<table border=\"1\" class=\"dataframe\">\n",
       "  <thead>\n",
       "    <tr style=\"text-align: right;\">\n",
       "      <th></th>\n",
       "      <th>user_name</th>\n",
       "      <th>user_location</th>\n",
       "      <th>user_description</th>\n",
       "      <th>user_created</th>\n",
       "      <th>user_followers</th>\n",
       "      <th>user_friends</th>\n",
       "      <th>user_favourites</th>\n",
       "      <th>user_verified</th>\n",
       "      <th>date</th>\n",
       "      <th>text</th>\n",
       "      <th>hashtags</th>\n",
       "      <th>source</th>\n",
       "      <th>is_retweet</th>\n",
       "    </tr>\n",
       "  </thead>\n",
       "  <tbody>\n",
       "    <tr>\n",
       "      <th>0</th>\n",
       "      <td>ᏉᎥ☻լꂅϮ</td>\n",
       "      <td>astroworld</td>\n",
       "      <td>wednesday addams as a disney princess keepin i...</td>\n",
       "      <td>2017-05-26 05:46:42</td>\n",
       "      <td>624</td>\n",
       "      <td>950</td>\n",
       "      <td>18775</td>\n",
       "      <td>False</td>\n",
       "      <td>2020-07-25 12:27:21</td>\n",
       "      <td>If I smelled the scent of hand sanitizers toda...</td>\n",
       "      <td>NaN</td>\n",
       "      <td>Twitter for iPhone</td>\n",
       "      <td>False</td>\n",
       "    </tr>\n",
       "    <tr>\n",
       "      <th>1</th>\n",
       "      <td>Tom Basile 🇺🇸</td>\n",
       "      <td>New York, NY</td>\n",
       "      <td>Husband, Father, Columnist &amp; Commentator. Auth...</td>\n",
       "      <td>2009-04-16 20:06:23</td>\n",
       "      <td>2253</td>\n",
       "      <td>1677</td>\n",
       "      <td>24</td>\n",
       "      <td>True</td>\n",
       "      <td>2020-07-25 12:27:17</td>\n",
       "      <td>Hey @Yankees @YankeesPR and @MLB - wouldn't it...</td>\n",
       "      <td>NaN</td>\n",
       "      <td>Twitter for Android</td>\n",
       "      <td>False</td>\n",
       "    </tr>\n",
       "    <tr>\n",
       "      <th>2</th>\n",
       "      <td>Time4fisticuffs</td>\n",
       "      <td>Pewee Valley, KY</td>\n",
       "      <td>#Christian #Catholic #Conservative #Reagan #Re...</td>\n",
       "      <td>2009-02-28 18:57:41</td>\n",
       "      <td>9275</td>\n",
       "      <td>9525</td>\n",
       "      <td>7254</td>\n",
       "      <td>False</td>\n",
       "      <td>2020-07-25 12:27:14</td>\n",
       "      <td>@diane3443 @wdunlap @realDonaldTrump Trump nev...</td>\n",
       "      <td>['COVID19']</td>\n",
       "      <td>Twitter for Android</td>\n",
       "      <td>False</td>\n",
       "    </tr>\n",
       "    <tr>\n",
       "      <th>3</th>\n",
       "      <td>ethel mertz</td>\n",
       "      <td>Stuck in the Middle</td>\n",
       "      <td>#Browns #Indians #ClevelandProud #[]_[] #Cavs ...</td>\n",
       "      <td>2019-03-07 01:45:06</td>\n",
       "      <td>197</td>\n",
       "      <td>987</td>\n",
       "      <td>1488</td>\n",
       "      <td>False</td>\n",
       "      <td>2020-07-25 12:27:10</td>\n",
       "      <td>@brookbanktv The one gift #COVID19 has give me...</td>\n",
       "      <td>['COVID19']</td>\n",
       "      <td>Twitter for iPhone</td>\n",
       "      <td>False</td>\n",
       "    </tr>\n",
       "    <tr>\n",
       "      <th>4</th>\n",
       "      <td>DIPR-J&amp;K</td>\n",
       "      <td>Jammu and Kashmir</td>\n",
       "      <td>🖊️Official Twitter handle of Department of Inf...</td>\n",
       "      <td>2017-02-12 06:45:15</td>\n",
       "      <td>101009</td>\n",
       "      <td>168</td>\n",
       "      <td>101</td>\n",
       "      <td>False</td>\n",
       "      <td>2020-07-25 12:27:08</td>\n",
       "      <td>25 July : Media Bulletin on Novel #CoronaVirus...</td>\n",
       "      <td>['CoronaVirusUpdates', 'COVID19']</td>\n",
       "      <td>Twitter for Android</td>\n",
       "      <td>False</td>\n",
       "    </tr>\n",
       "  </tbody>\n",
       "</table>\n",
       "</div>"
      ],
      "text/plain": [
       "         user_name         user_location  \\\n",
       "0           ᏉᎥ☻լꂅϮ            astroworld   \n",
       "1    Tom Basile 🇺🇸          New York, NY   \n",
       "2  Time4fisticuffs      Pewee Valley, KY   \n",
       "3      ethel mertz  Stuck in the Middle    \n",
       "4         DIPR-J&K     Jammu and Kashmir   \n",
       "\n",
       "                                    user_description         user_created  \\\n",
       "0  wednesday addams as a disney princess keepin i...  2017-05-26 05:46:42   \n",
       "1  Husband, Father, Columnist & Commentator. Auth...  2009-04-16 20:06:23   \n",
       "2  #Christian #Catholic #Conservative #Reagan #Re...  2009-02-28 18:57:41   \n",
       "3  #Browns #Indians #ClevelandProud #[]_[] #Cavs ...  2019-03-07 01:45:06   \n",
       "4  🖊️Official Twitter handle of Department of Inf...  2017-02-12 06:45:15   \n",
       "\n",
       "   user_followers  user_friends  user_favourites  user_verified  \\\n",
       "0             624           950            18775          False   \n",
       "1            2253          1677               24           True   \n",
       "2            9275          9525             7254          False   \n",
       "3             197           987             1488          False   \n",
       "4          101009           168              101          False   \n",
       "\n",
       "                  date                                               text  \\\n",
       "0  2020-07-25 12:27:21  If I smelled the scent of hand sanitizers toda...   \n",
       "1  2020-07-25 12:27:17  Hey @Yankees @YankeesPR and @MLB - wouldn't it...   \n",
       "2  2020-07-25 12:27:14  @diane3443 @wdunlap @realDonaldTrump Trump nev...   \n",
       "3  2020-07-25 12:27:10  @brookbanktv The one gift #COVID19 has give me...   \n",
       "4  2020-07-25 12:27:08  25 July : Media Bulletin on Novel #CoronaVirus...   \n",
       "\n",
       "                            hashtags               source  is_retweet  \n",
       "0                                NaN   Twitter for iPhone       False  \n",
       "1                                NaN  Twitter for Android       False  \n",
       "2                        ['COVID19']  Twitter for Android       False  \n",
       "3                        ['COVID19']   Twitter for iPhone       False  \n",
       "4  ['CoronaVirusUpdates', 'COVID19']  Twitter for Android       False  "
      ]
     },
     "execution_count": 2,
     "metadata": {},
     "output_type": "execute_result"
    }
   ],
   "source": [
    "data.head()"
   ]
  },
  {
   "cell_type": "markdown",
   "metadata": {},
   "source": [
    "Verificamos la cantidad de datos con data.count():"
   ]
  },
  {
   "cell_type": "code",
   "execution_count": 3,
   "metadata": {},
   "outputs": [
    {
     "data": {
      "text/plain": [
       "user_name           74436\n",
       "user_location       59218\n",
       "user_description    70079\n",
       "user_created        74436\n",
       "user_followers      74436\n",
       "user_friends        74436\n",
       "user_favourites     74436\n",
       "user_verified       74436\n",
       "date                74436\n",
       "text                74436\n",
       "hashtags            53002\n",
       "source              74424\n",
       "is_retweet          74436\n",
       "dtype: int64"
      ]
     },
     "execution_count": 3,
     "metadata": {},
     "output_type": "execute_result"
    }
   ],
   "source": [
    "data.count()"
   ]
  },
  {
   "cell_type": "markdown",
   "metadata": {},
   "source": [
    "Obtenemos la estadística descriptiva con el comando data.describe():"
   ]
  },
  {
   "cell_type": "code",
   "execution_count": 4,
   "metadata": {},
   "outputs": [
    {
     "data": {
      "text/html": [
       "<div>\n",
       "<style scoped>\n",
       "    .dataframe tbody tr th:only-of-type {\n",
       "        vertical-align: middle;\n",
       "    }\n",
       "\n",
       "    .dataframe tbody tr th {\n",
       "        vertical-align: top;\n",
       "    }\n",
       "\n",
       "    .dataframe thead th {\n",
       "        text-align: right;\n",
       "    }\n",
       "</style>\n",
       "<table border=\"1\" class=\"dataframe\">\n",
       "  <thead>\n",
       "    <tr style=\"text-align: right;\">\n",
       "      <th></th>\n",
       "      <th>user_followers</th>\n",
       "      <th>user_friends</th>\n",
       "      <th>user_favourites</th>\n",
       "    </tr>\n",
       "  </thead>\n",
       "  <tbody>\n",
       "    <tr>\n",
       "      <th>count</th>\n",
       "      <td>7.443600e+04</td>\n",
       "      <td>74436.000000</td>\n",
       "      <td>7.443600e+04</td>\n",
       "    </tr>\n",
       "    <tr>\n",
       "      <th>mean</th>\n",
       "      <td>1.059513e+05</td>\n",
       "      <td>2154.721170</td>\n",
       "      <td>1.529747e+04</td>\n",
       "    </tr>\n",
       "    <tr>\n",
       "      <th>std</th>\n",
       "      <td>8.222900e+05</td>\n",
       "      <td>9365.587474</td>\n",
       "      <td>4.668971e+04</td>\n",
       "    </tr>\n",
       "    <tr>\n",
       "      <th>min</th>\n",
       "      <td>0.000000e+00</td>\n",
       "      <td>0.000000</td>\n",
       "      <td>0.000000e+00</td>\n",
       "    </tr>\n",
       "    <tr>\n",
       "      <th>25%</th>\n",
       "      <td>1.660000e+02</td>\n",
       "      <td>153.000000</td>\n",
       "      <td>2.200000e+02</td>\n",
       "    </tr>\n",
       "    <tr>\n",
       "      <th>50%</th>\n",
       "      <td>9.600000e+02</td>\n",
       "      <td>552.000000</td>\n",
       "      <td>1.927000e+03</td>\n",
       "    </tr>\n",
       "    <tr>\n",
       "      <th>75%</th>\n",
       "      <td>5.148000e+03</td>\n",
       "      <td>1780.250000</td>\n",
       "      <td>1.014800e+04</td>\n",
       "    </tr>\n",
       "    <tr>\n",
       "      <th>max</th>\n",
       "      <td>1.389284e+07</td>\n",
       "      <td>497363.000000</td>\n",
       "      <td>2.047197e+06</td>\n",
       "    </tr>\n",
       "  </tbody>\n",
       "</table>\n",
       "</div>"
      ],
      "text/plain": [
       "       user_followers   user_friends  user_favourites\n",
       "count    7.443600e+04   74436.000000     7.443600e+04\n",
       "mean     1.059513e+05    2154.721170     1.529747e+04\n",
       "std      8.222900e+05    9365.587474     4.668971e+04\n",
       "min      0.000000e+00       0.000000     0.000000e+00\n",
       "25%      1.660000e+02     153.000000     2.200000e+02\n",
       "50%      9.600000e+02     552.000000     1.927000e+03\n",
       "75%      5.148000e+03    1780.250000     1.014800e+04\n",
       "max      1.389284e+07  497363.000000     2.047197e+06"
      ]
     },
     "execution_count": 4,
     "metadata": {},
     "output_type": "execute_result"
    }
   ],
   "source": [
    "data.describe()"
   ]
  },
  {
   "cell_type": "markdown",
   "metadata": {},
   "source": [
    "El conteo nos da un total de 74,436 en las 3 columnas de las diferentes variables.\n",
    "La media del user_followers fue de 10,595; la de user_ friends 2155 y por último; user_favourites tuvo una media de 15,297. Por consiguiente, la desviación estándar se encuentra en nuestro tercer renglón, sin embargo estos números son muy altos, por lo que quiere decir que hay una distancia grande entre los datos. Con respecto a la mediana, el número de en medio es 960, el cual quiere decir que el 50% de los datos está por debajo de ese número.\n"
   ]
  },
  {
   "cell_type": "markdown",
   "metadata": {},
   "source": [
    "## Boxplots"
   ]
  },
  {
   "cell_type": "code",
   "execution_count": 60,
   "metadata": {},
   "outputs": [
    {
     "data": {
      "image/png": "[encoded data removed]",
      "text/plain": [
       "<Figure size 216x360 with 1 Axes>"
      ]
     },
     "metadata": {
      "needs_background": "light"
     },
     "output_type": "display_data"
    }
   ],
   "source": [
    "import matplotlib.pyplot as plt\n",
    "user_followers = data['user_followers']\n",
    "new_data = [user_followers]\n",
    "fig = plt.figure(figsize=(3,5))\n",
    "ax = fig.add_axes([0, 0, 1, 1])\n",
    "box_plot = ax.boxplot(new_data)\n",
    "plt.show()"
   ]
  },
  {
   "cell_type": "markdown",
   "metadata": {},
   "source": [
    "Figura 1.1 Boxplot de la variable user_followers.\n",
    "\n",
    "En esta gráfica se puede apreciar que la mayoría de los usuarios se encuentran más allá del límite superior de la caja, es decir, que estos datos fuera del rango intercuartílico representan a personas que son de un nivel de influencia alto en redes sociales.\n"
   ]
  },
  {
   "cell_type": "code",
   "execution_count": 56,
   "metadata": {},
   "outputs": [
    {
     "data": {
      "image/png": "[encoded data removed]",
      "text/plain": [
       "<Figure size 216x360 with 1 Axes>"
      ]
     },
     "metadata": {
      "needs_background": "light"
     },
     "output_type": "display_data"
    }
   ],
   "source": [
    "user_friends = data['user_friends']\n",
    "new_data = [user_friends]\n",
    "fig = plt.figure(figsize=(3,5))\n",
    "ax = fig.add_axes([0, 0, 1, 1])\n",
    "box_plot = ax.boxplot(new_data)\n",
    "plt.show()"
   ]
  },
  {
   "cell_type": "markdown",
   "metadata": {},
   "source": [
    "Figura 1.2 Boxplot de la variable user_friends.\n",
    "\n",
    "En esta gráfica podemos observar que al igual que los seguidores, las personas que tienden a tener más influencia en redes sociales presentan una mayor cantidad de amigos o gente que está en la comunidad.\n"
   ]
  },
  {
   "cell_type": "code",
   "execution_count": 55,
   "metadata": {
    "scrolled": true
   },
   "outputs": [
    {
     "data": {
      "image/png": "[encoded data removed]",
      "text/plain": [
       "<Figure size 216x360 with 1 Axes>"
      ]
     },
     "metadata": {
      "needs_background": "light"
     },
     "output_type": "display_data"
    }
   ],
   "source": [
    "user_favourites = data['user_favourites']\n",
    "new_data = [user_favourites]\n",
    "fig = plt.figure(figsize=(3,5))\n",
    "ax = fig.add_axes([0, 0, 1, 1])\n",
    "box_plot = ax.boxplot(new_data)\n",
    "plt.show()"
   ]
  },
  {
   "cell_type": "markdown",
   "metadata": {},
   "source": [
    "Figura 1.3 Boxplot de la variable user_favourites.\n",
    "\n",
    "En esta gráfica se puede ver que la tendencia de los seguidores tiende a agruparse, lo cual quiere decir que los personajes favoritos de las personas en las redes puede estar relacionada con un círculo social.\n"
   ]
  },
  {
   "cell_type": "markdown",
   "metadata": {},
   "source": [
    "## Mapas de calor"
   ]
  },
  {
   "cell_type": "code",
   "execution_count": 38,
   "metadata": {},
   "outputs": [
    {
     "data": {
      "image/png": "[encoded data removed]",
      "text/plain": [
       "<Figure size 432x288 with 2 Axes>"
      ]
     },
     "metadata": {
      "needs_background": "light"
     },
     "output_type": "display_data"
    }
   ],
   "source": [
    "import seaborn as sns\n",
    "import numpy as np\n",
    "\n",
    "columnas = data[['user_followers']]\n",
    "ax = sns.heatmap(columnas, center=7000000)\n",
    "plt.show()"
   ]
  },
  {
   "cell_type": "markdown",
   "metadata": {},
   "source": [
    "En esta gráfica se puede apreciar que el usuario que más presenta seguidores es el 46,085. Los demás franjas rosas son usuarios que de igual forma presentan una gran cantidad de seguidores. Lo demás que es oscuro se refiere a la población que casi no presenta mucho followers en redes sociales."
   ]
  },
  {
   "cell_type": "code",
   "execution_count": 41,
   "metadata": {},
   "outputs": [
    {
     "data": {
      "image/png": "[encoded data removed]",
      "text/plain": [
       "<Figure size 432x288 with 2 Axes>"
      ]
     },
     "metadata": {
      "needs_background": "light"
     },
     "output_type": "display_data"
    }
   ],
   "source": [
    "columnas = data[['user_friends']]\n",
    "ax = sns.heatmap(columnas, center=250000)\n",
    "plt.show()"
   ]
  },
  {
   "cell_type": "markdown",
   "metadata": {},
   "source": [
    "Figura 2.2 Mapa de calor de la variable user_friends.\n",
    "\n",
    "En esta gráfica podemos observar que los usuarios 42,540, 14,180 y 70,900 son los que poseen una mayor cantidad de amigos, mientras que los demás se encuentran por debajo de los 100 mil.\n"
   ]
  },
  {
   "cell_type": "code",
   "execution_count": 42,
   "metadata": {},
   "outputs": [
    {
     "data": {
      "image/png": "[encoded data removed]",
      "text/plain": [
       "<Figure size 432x288 with 2 Axes>"
      ]
     },
     "metadata": {
      "needs_background": "light"
     },
     "output_type": "display_data"
    }
   ],
   "source": [
    "columnas = data[['user_favourites']]\n",
    "ax = sns.heatmap(columnas,center=1000000)\n",
    "plt.show()"
   ]
  },
  {
   "cell_type": "markdown",
   "metadata": {},
   "source": [
    "Figura 2.3 Mapa de calor de la variable user_favourites.\n",
    "\n",
    "En esta gráfica se puede ver que los favoritos tienden están en un rango bastante similar al de los seguidores. Esto quiere decir que las personas con más followers tienden a ser más favoritos entre la gente como una estrella de cine o influencer."
   ]
  },
  {
   "cell_type": "markdown",
   "metadata": {},
   "source": [
    "## Histogramas"
   ]
  },
  {
   "cell_type": "code",
   "execution_count": 34,
   "metadata": {},
   "outputs": [
    {
     "data": {
      "image/png": "[encoded data removed]",
      "text/plain": [
       "<Figure size 432x288 with 1 Axes>"
      ]
     },
     "metadata": {
      "needs_background": "light"
     },
     "output_type": "display_data"
    }
   ],
   "source": [
    "import matplotlib \n",
    "plt.hist(data['user_followers'], 20,range=(0,74436))   \n",
    "plt.title('User followers\\n', fontweight =\"bold\")  \n",
    "plt.show()"
   ]
  },
  {
   "cell_type": "markdown",
   "metadata": {},
   "source": [
    "Figura 3.1 Histograma de la variable user_followers.\n",
    "\n",
    "En este histograma se puede apreciar que hay muy pocos usuarios que presentan más de 50,000 seguidores, mientras que la mayoría de las personas no rebasan los 8,000 seguidores. Esto puede ser una explicación al porqué nos quedan datos separados en el boxplot.\n"
   ]
  },
  {
   "cell_type": "code",
   "execution_count": 35,
   "metadata": {},
   "outputs": [
    {
     "data": {
      "image/png": "[encoded data removed]",
      "text/plain": [
       "<Figure size 432x288 with 1 Axes>"
      ]
     },
     "metadata": {
      "needs_background": "light"
     },
     "output_type": "display_data"
    }
   ],
   "source": [
    "plt.hist(data['user_friends'], 20,range=(0,74436))   \n",
    "plt.title('User friends\\n', fontweight =\"bold\")  \n",
    "plt.show()"
   ]
  },
  {
   "cell_type": "markdown",
   "metadata": {},
   "source": [
    "Figura 3.2 Histograma de la variable user_friends.\n",
    "\n",
    "En esta gráfica podemos observar que un pequeño grupo de personas tiene como amigo a más de 60,000 personas lo cual puede referirse a comunidades grandes de cualquier tipo de creador de contenido y que en el boxplot son los datos separados del caja y bigote. Ya una parte de la población no pasa de los 8000 amigos, el cual también representa una pequeña cantidad de personas. Ya la mayoría de la población no pasa de los 2000 amigos.\n"
   ]
  },
  {
   "cell_type": "code",
   "execution_count": 36,
   "metadata": {},
   "outputs": [
    {
     "data": {
      "image/png": "[encoded data removed]",
      "text/plain": [
       "<Figure size 432x288 with 1 Axes>"
      ]
     },
     "metadata": {
      "needs_background": "light"
     },
     "output_type": "display_data"
    }
   ],
   "source": [
    "plt.hist(data['user_favourites'], 20,range=(0,74436))   \n",
    "plt.title('User favourites\\n', fontweight =\"bold\")  \n",
    "plt.show()"
   ]
  },
  {
   "cell_type": "markdown",
   "metadata": {},
   "source": [
    "Figura 3.3 Histograma de la variable user_favourites.\n",
    "\n",
    "En esta gráfica se puede ver que pocas personas tienden a ser favoritos y es un tema normal hablando de gente que realiza contenido en redes sociales, cada persona elige a las personas, canales o figuras públicas de su agrado.\n"
   ]
  },
  {
   "cell_type": "code",
   "execution_count": 51,
   "metadata": {},
   "outputs": [
    {
     "data": {
      "text/plain": [
       "<AxesSubplot:>"
      ]
     },
     "execution_count": 51,
     "metadata": {},
     "output_type": "execute_result"
    },
    {
     "data": {
      "image/png": "[encoded data removed]",
      "text/plain": [
       "<Figure size 432x288 with 1 Axes>"
      ]
     },
     "metadata": {
      "needs_background": "light"
     },
     "output_type": "display_data"
    }
   ],
   "source": [
    "pd.Series(data[\"is_retweet\"]).value_counts().plot(kind='bar') "
   ]
  },
  {
   "cell_type": "markdown",
   "metadata": {},
   "source": [
    "Figura 3.3 Histograma de la variable is retweet.\n",
    "\n",
    "En esta gráfica se puede observar que ningun tweet recopilados dentro de la base de datos ha sido retweeteado, haciendo que en esta grafica, la columna False tenga todos los usuarios disponibles. "
   ]
  },
  {
   "cell_type": "markdown",
   "metadata": {},
   "source": [
    "## Preguntas\n",
    "\n",
    "1.- ¿Hay alguna variable que no aporte información? \n",
    "\n",
    "De acuerdo con los boxplots, consideramos que las variables que no aportan información son las que no tienen datos numéricos o contienen información que simplemente queda al aire como: user_created, user_verified, date y text. Otra variable que se podría eliminar es la de user_name, pues lo poco que podemos sacar de ella es el nombre de la persona que presenta más followers. \n",
    "Con respecto a las variables que sí tuvieron un análisis descriptivo (user_followers, user_friends y user_favourites) presentan información bastante interesante, a pesar de tener datos muy separados de los rangos intercuartílicos.\n",
    "\n",
    "User Followers: A pesar de que presenta varios datos dispersos, nos brinda buena información, es decir, los datos fuera de la caja son personas que están en un rango alto en redes sociales ya sea por: streams, canal de YouTube, influencer, figura pública, noticias, etc. Con esta variable podemos darnos cuenta que la gente sigue a ciertas personas porque ofrecen algún servicio o entretenimiento.\n",
    "\n",
    "User Friends: Esta variable, al igual que user_followers, presenta datos dispersos similares a los seguidores del usuario. Aquí podemos encontrar que las mismas personas que presentan más followers son las que más amigos tienen y que además son las mismas que tienen un alto rango en redes sociales.\n",
    "\n",
    "User Favourites: Esta variable presenta datos dispersos aunque no tan alejados como las dos anteriores. Como se trata de los favoritos de los usuarios, no están muy alejados de que haya conexión con respecto al número de seguidores. Es decir, una persona con alto rango en redes sociales puede estar siguiendo a otra persona con seguidores similares debido a que también puede estar en los favoritos de su seguidor o viceversa, sabiendo que esa persona de alta influencia tiene relación con otra cuenta, el usuario procede a seguir a la otra cuenta y así generando un pequeño público entre seguidores y creadores de contenido.\n",
    "\n",
    "\n",
    "2.- Si tuvieras que eliminar variables, ¿cuáles quitarías y por qué?\n",
    "\n",
    "Eliminaría user_name, user_created y user_description pues no aportan información significativa, ya que únicamente muestra la forma en la que el usuario quiere ser conocido en la red (la mayoría de las veces no es su nombre real), la fecha en que la cuenta fue creada y alguna frase que le guste o describa al usuario.\n",
    "\n",
    "\n",
    "3.-¿Existen variables que tengan datos extraños?\n",
    "\n",
    "En la estadística, tener varios datos atípicos señala que existen algunos datos extraños, sin embargo, en nuestro caso no se consideran como extraños pues muestran información útil para analizar el tipo de usuario que está haciendo el tweet.\n",
    "\n",
    "\n",
    "4.-Si comparas las variables, ¿todas están en rangos similares?\n",
    "\n",
    "Únicamente user_followers y user_favourites se encuentran en rangos similares con términos de millones y con una tendencia similar aunque es cierto que el rango de user_followers es mayor que los demás al igual que las demás variables.\n",
    "\n",
    "\n",
    "5.-¿Crees que esto afecte?\n",
    "\n",
    "No afectaría, pues no TODAS las variables están relacionadas. El hecho de que ambas variables (user_followers y user_favourites) se encuentren en rangos similares, quiere decir que se encuentran correlacionadas y son significativas.\n",
    "\n",
    "\n",
    "6.-¿Puedes encontrar grupos que se parezcan? ¿Qué grupos son estos?\n",
    "\n",
    "Los grupos que se parecen son: user_followers y user_favourites debido a que la tendencia que tienen es similar, esto puede representar que las personas que son tendencia en redes sociales presentan una mayor cantidad de amigos. Otro dato que nos puede servir, son los hashtags que se mencionan, ya que puede haber uno que otro que coincide o que apoye un hashtag."
   ]
  },
  {
   "cell_type": "markdown",
   "metadata": {},
   "source": [
    "Vínculo al github: https://github.com/Alexjgxt18/AnaliticaReto3.git \n"
   ]
  }
 ],
 "metadata": {
  "kernelspec": {
   "display_name": "Python 3",
   "language": "python",
   "name": "python3"
  },
  "language_info": {
   "codemirror_mode": {
    "name": "ipython",
    "version": 3
   },
   "file_extension": ".py",
   "mimetype": "text/x-python",
   "name": "python",
   "nbconvert_exporter": "python",
   "pygments_lexer": "ipython3",
   "version": "3.8.5"
  }
 },
 "nbformat": 4,
 "nbformat_minor": 4
}
